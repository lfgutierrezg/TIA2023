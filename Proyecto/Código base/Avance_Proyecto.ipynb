{
 "cells": [
  {
   "cell_type": "markdown",
   "id": "27b33c72",
   "metadata": {},
   "source": [
    "Importamos el API con el que podremos trabajar con la cámara OAK-D"
   ]
  },
  {
   "cell_type": "code",
   "execution_count": 1,
   "id": "a5aac559",
   "metadata": {},
   "outputs": [],
   "source": [
    "import depthai as dai\n",
    "import cv2 as cv"
   ]
  },
  {
   "cell_type": "code",
   "execution_count": null,
   "id": "8a027f4f",
   "metadata": {},
   "outputs": [],
   "source": [
    "def getFrame(queue):\n",
    "    frame = queue.get()\n",
    "    return frame.getCvFrame()\n",
    "\n",
    "def getMonoCamera(pipeline, isLeft):\n",
    "    mono = pipeline.createMonoCamera()\n",
    "    mono.setResolution(dai.MonoCameraProperties.SensorResolution.THE_400_P)\n",
    "    if isLeft:\n",
    "        mono.setBoardSocket(dai.CameraBoardSocket.LEFT)\n",
    "    else:\n",
    "        mono.setBoardSocket(dai.CameraBoardSocket.RIGHT)\n",
    "    return mono"
   ]
  },
  {
   "cell_type": "code",
   "execution_count": 2,
   "id": "a97d9ac2",
   "metadata": {},
   "outputs": [],
   "source": [
    "if __name__ == '__main__':\n",
    "    pipeline = dai.Pipeline()\n",
    "    monoR = getMonoCamera(pipeline, isLeft = False)\n",
    "    monoL = getMonoCamera(pipeline, isLeft = True)\n",
    "    \n",
    "    #Set output Xlink for left Camera\n",
    "    xoutL = pipeline.createXLinkOut()\n",
    "    xoutL.setStreamName(\"left\")\n",
    "    \n",
    "    #Set output Xlink for right Camera\n",
    "    xoutR = pipeline.createXLinkOut()\n",
    "    xoutR.setStreamName(\"right\")\n",
    "    \n",
    "    # Attach cameras to output Xlink\n",
    "    monoL.out.link(xoutL.input)\n",
    "    monoR.out.link(xoutR.input)\n",
    "    "
   ]
  },
  {
   "cell_type": "code",
   "execution_count": 3,
   "id": "4898f00e",
   "metadata": {},
   "outputs": [],
   "source": []
  },
  {
   "cell_type": "code",
   "execution_count": null,
   "id": "80a61ca9",
   "metadata": {},
   "outputs": [],
   "source": [
    "\n",
    "\n",
    "mono.out.link(xout.input)\n",
    "\n",
    "with dai.Device(pipeline) as device:\n",
    "    queue = device.getOutputQueue(name='left')\n",
    "    imOut = getFrame(queue)\n",
    "    cv.imshow(\"Image\", imOut)"
   ]
  }
 ],
 "metadata": {
  "kernelspec": {
   "display_name": "Python 3 (ipykernel)",
   "language": "python",
   "name": "python3"
  },
  "language_info": {
   "codemirror_mode": {
    "name": "ipython",
    "version": 3
   },
   "file_extension": ".py",
   "mimetype": "text/x-python",
   "name": "python",
   "nbconvert_exporter": "python",
   "pygments_lexer": "ipython3",
   "version": "3.10.9"
  }
 },
 "nbformat": 4,
 "nbformat_minor": 5
}
